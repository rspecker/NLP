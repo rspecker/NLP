{
  "cells": [
    {
      "cell_type": "markdown",
      "source": [
        "# Natural Language Project - Finding the Genre of Movie Plots - Group 11"
      ],
      "metadata": {
        "id": "0KWwPuQ9iq-c"
      }
    },
    {
      "cell_type": "markdown",
      "source": [
        "## Project Setup\n",
        "If you're running this project in **Google Colab**, make sure to execute the following commands to properly configure the environment.\n",
        "(These steps are not required if you're running the project locally on your machine.)"
      ],
      "metadata": {
        "id": "TF6xI_Yyjv5D"
      }
    },
    {
      "cell_type": "code",
      "source": [
        "!git clone https://github.com/rspecker/NLP.git\n",
        "%cd NLP"
      ],
      "metadata": {
        "id": "P4u_gh5Dm3Yd"
      },
      "execution_count": null,
      "outputs": []
    },
    {
      "cell_type": "code",
      "source": [
        "# !pip install -r requirements.txt"
      ],
      "metadata": {
        "collapsed": true,
        "id": "NWcgfqmAm9SK"
      },
      "execution_count": null,
      "outputs": []
    },
    {
      "cell_type": "code",
      "source": [
        "# import project dependencies\n",
        "import pandas as pd\n",
        "from preprocessing.preproc import create_preprocesssed_dataset\n",
        "from preprocessing.tfidf import create_train_data_tfidf\n",
        "from utils import create_train_test_sets\n",
        "from modelling.information_ret import score\n",
        "\n"
      ],
      "metadata": {
        "id": "t6mFyY_8-y1Q"
      },
      "execution_count": 8,
      "outputs": []
    },
    {
      "cell_type": "markdown",
      "source": [
        "## Data Import"
      ],
      "metadata": {
        "id": "Wz-HMKTfp4C3"
      }
    },
    {
      "cell_type": "code",
      "source": [
        "# Import data and set column names\n",
        "df = pd.read_table(\n",
        "    'train.txt',\n",
        "    names=['title', 'from', 'genre', 'director', 'plot']\n",
        "    )"
      ],
      "metadata": {
        "id": "8_hSmeDU8tzq"
      },
      "execution_count": 9,
      "outputs": []
    },
    {
      "cell_type": "markdown",
      "source": [
        "## Data Pre-Processing"
      ],
      "metadata": {
        "id": "8Lzimx4u-W8D"
      }
    },
    {
      "cell_type": "code",
      "source": [
        "# Split data into training and testing sets\n",
        "x_train, x_test, y_train, y_test = create_train_test_sets(\n",
        "    df, test_size=0.2, random_state=0, y_column='genre'\n",
        ")"
      ],
      "metadata": {
        "id": "3oeryi30-WZj"
      },
      "execution_count": null,
      "outputs": []
    },
    {
      "cell_type": "markdown",
      "source": [
        "### TF-IDF\n",
        "TF-IDF converts text into sparse vectors based on word importance across documents, without considering word order or context"
      ],
      "metadata": {
        "id": "CouWhn3ZDqGq"
      }
    },
    {
      "cell_type": "code",
      "source": [
        "# create TF-IDF"
      ],
      "metadata": {
        "id": "CedZfecfDIGz"
      },
      "execution_count": null,
      "outputs": []
    },
    {
      "cell_type": "markdown",
      "source": [
        "### Sentence Embeddings (Sentence-BERT)\n",
        "Sentence-BERT generates dense, fixed-length embeddings that capture the semantic meaning of entire sentences, enabling more context-aware comparisons."
      ],
      "metadata": {
        "id": "YlBPXDHyDy4h"
      }
    },
    {
      "cell_type": "code",
      "source": [
        "# create sentence embeddings\n",
        "create_sentence_embeddings()"
      ],
      "metadata": {
        "id": "micwxtCQEx4s"
      },
      "execution_count": null,
      "outputs": []
    },
    {
      "cell_type": "code",
      "execution_count": null,
      "metadata": {
        "collapsed": true,
        "id": "dzMPouhBijpb"
      },
      "outputs": [],
      "source": [
        "vectorizer = TfidfVectorizer(max_features=1000)\n",
        "x_train_tfidf = vectorizer.fit_transform(x_train[\"plot\"])\n",
        "x_test_tfidf = vectorizer.transform(x_test[\"plot\"])\n",
        "\n",
        "model = MultinomialNB()\n",
        "params, score = tune_hyperparameters(model, mnb_param_grid, x_train_tfidf, y_train)\n",
        "\n",
        "final_model = MultinomialNB(alpha=params['alpha'],\n",
        "                            fit_prior=params['fit_prior'])\n",
        "final_model.fit(x_train_tfidf, y_train)\n",
        "\n",
        "final_model.score(x_test_tfidf, y_test)\n",
        "print(f\"Test set accuracy: {final_model.score(x_test_tfidf, y_test)}\")\n",
        "\n",
        "model = SVC()\n",
        "params, score = tune_hyperparameters(model, svc_param_grid, x_train_tfidf, y_train)\n",
        "\n",
        "final_model = MultinomialNB(C=params['C'],\n",
        "                            kernel=params['kernel'],\n",
        "                            # gamma=params['gamma'],\n",
        "                            # class_weight=params['class_weight']\n",
        "                            )\n",
        "final_model.fit(x_train_tfidf, y_train)\n",
        "\n",
        "final_model.score(x_test_tfidf, y_test)\n",
        "print(f\"Test set accuracy: {final_model.score(x_test_tfidf, y_test)}\")"
      ]
    }
  ],
  "metadata": {
    "kernelspec": {
      "display_name": "Python 3",
      "language": "python",
      "name": "python3"
    },
    "language_info": {
      "codemirror_mode": {
        "name": "ipython",
        "version": 2
      },
      "file_extension": ".py",
      "mimetype": "text/x-python",
      "name": "python",
      "nbconvert_exporter": "python",
      "pygments_lexer": "ipython2",
      "version": "2.7.6"
    },
    "colab": {
      "provenance": []
    }
  },
  "nbformat": 4,
  "nbformat_minor": 0
}