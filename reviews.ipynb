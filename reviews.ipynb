{
 "cells": [
  {
   "cell_type": "code",
   "execution_count": null,
   "metadata": {
    "collapsed": true
   },
   "outputs": [],
   "source": [
    "vectorizer = TfidfVectorizer(max_features=1000)\n",
    "x_train_tfidf = vectorizer.fit_transform(x_train[\"plot\"])\n",
    "x_test_tfidf = vectorizer.transform(x_test[\"plot\"])\n",
    "\n",
    "model = MultinomialNB()\n",
    "params, score = tune_hyperparameters(model, mnb_param_grid, x_train_tfidf, y_train)\n",
    "\n",
    "final_model = MultinomialNB(alpha=params['alpha'],\n",
    "                            fit_prior=params['fit_prior'])\n",
    "final_model.fit(x_train_tfidf, y_train)\n",
    "\n",
    "final_model.score(x_test_tfidf, y_test)\n",
    "print(f\"Test set accuracy: {final_model.score(x_test_tfidf, y_test)}\")\n",
    "\n",
    "model = SVC()\n",
    "params, score = tune_hyperparameters(model, svc_param_grid, x_train_tfidf, y_train)\n",
    "\n",
    "final_model = MultinomialNB(C=params['C'],\n",
    "                            kernel=params['kernel'],\n",
    "                            # gamma=params['gamma'],\n",
    "                            # class_weight=params['class_weight']\n",
    "                            )\n",
    "final_model.fit(x_train_tfidf, y_train)\n",
    "\n",
    "final_model.score(x_test_tfidf, y_test)\n",
    "print(f\"Test set accuracy: {final_model.score(x_test_tfidf, y_test)}\")"
   ]
  }
 ],
 "metadata": {
  "kernelspec": {
   "display_name": "Python 3",
   "language": "python",
   "name": "python3"
  },
  "language_info": {
   "codemirror_mode": {
    "name": "ipython",
    "version": 2
   },
   "file_extension": ".py",
   "mimetype": "text/x-python",
   "name": "python",
   "nbconvert_exporter": "python",
   "pygments_lexer": "ipython2",
   "version": "2.7.6"
  }
 },
 "nbformat": 4,
 "nbformat_minor": 0
}
