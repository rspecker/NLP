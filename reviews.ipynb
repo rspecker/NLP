{
  "cells": [
    {
      "cell_type": "markdown",
      "source": [
        "# Natural Language Project - Finding the Genre of Movie Plots - Group 11"
      ],
      "metadata": {
        "id": "0KWwPuQ9iq-c"
      }
    },
    {
      "cell_type": "markdown",
      "source": [
        "## Project Setup\n",
        "If you're running this project in **Google Colab**, make sure to execute the following commands to properly configure the environment.\n",
        "(These steps are not required if you're running the project locally on your machine.)"
      ],
      "metadata": {
        "id": "TF6xI_Yyjv5D"
      }
    },
    {
      "cell_type": "code",
      "source": [
        "# ! git clone https://github.com/rspecker/NLP.git\n",
        "# %cd NLP"
      ],
      "metadata": {
        "id": "P4u_gh5Dm3Yd",
        "outputId": "d037220e-2c7a-4260-f78a-880ddb03410a",
        "colab": {
          "base_uri": "https://localhost:8080/"
        }
      },
      "execution_count": 2,
      "outputs": [
        {
          "output_type": "stream",
          "name": "stdout",
          "text": [
            "fatal: destination path 'NLP' already exists and is not an empty directory.\n",
            "/content/NLP\n"
          ]
        }
      ]
    },
    {
      "cell_type": "code",
      "source": [
        "# !pip install -r requirements.txt"
      ],
      "metadata": {
        "id": "NWcgfqmAm9SK"
      },
      "execution_count": null,
      "outputs": []
    },
    {
      "cell_type": "code",
      "execution_count": null,
      "metadata": {
        "collapsed": true,
        "id": "dzMPouhBijpb"
      },
      "outputs": [],
      "source": [
        "vectorizer = TfidfVectorizer(max_features=1000)\n",
        "x_train_tfidf = vectorizer.fit_transform(x_train[\"plot\"])\n",
        "x_test_tfidf = vectorizer.transform(x_test[\"plot\"])\n",
        "\n",
        "model = MultinomialNB()\n",
        "params, score = tune_hyperparameters(model, mnb_param_grid, x_train_tfidf, y_train)\n",
        "\n",
        "final_model = MultinomialNB(alpha=params['alpha'],\n",
        "                            fit_prior=params['fit_prior'])\n",
        "final_model.fit(x_train_tfidf, y_train)\n",
        "\n",
        "final_model.score(x_test_tfidf, y_test)\n",
        "print(f\"Test set accuracy: {final_model.score(x_test_tfidf, y_test)}\")\n",
        "\n",
        "model = SVC()\n",
        "params, score = tune_hyperparameters(model, svc_param_grid, x_train_tfidf, y_train)\n",
        "\n",
        "final_model = MultinomialNB(C=params['C'],\n",
        "                            kernel=params['kernel'],\n",
        "                            # gamma=params['gamma'],\n",
        "                            # class_weight=params['class_weight']\n",
        "                            )\n",
        "final_model.fit(x_train_tfidf, y_train)\n",
        "\n",
        "final_model.score(x_test_tfidf, y_test)\n",
        "print(f\"Test set accuracy: {final_model.score(x_test_tfidf, y_test)}\")"
      ]
    }
  ],
  "metadata": {
    "kernelspec": {
      "display_name": "Python 3",
      "language": "python",
      "name": "python3"
    },
    "language_info": {
      "codemirror_mode": {
        "name": "ipython",
        "version": 2
      },
      "file_extension": ".py",
      "mimetype": "text/x-python",
      "name": "python",
      "nbconvert_exporter": "python",
      "pygments_lexer": "ipython2",
      "version": "2.7.6"
    },
    "colab": {
      "provenance": []
    }
  },
  "nbformat": 4,
  "nbformat_minor": 0
}